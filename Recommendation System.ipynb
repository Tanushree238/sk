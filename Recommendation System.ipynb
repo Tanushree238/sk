{
 "cells": [
  {
   "cell_type": "markdown",
   "metadata": {},
   "source": [
    "## Recommendation System - Part I"
   ]
  },
  {
   "cell_type": "markdown",
   "metadata": {},
   "source": [
    "### Product popularity based recommendation system targeted at new customers"
   ]
  },
  {
   "cell_type": "markdown",
   "metadata": {},
   "source": [
    "Popularity based are a great strategy to target the new customers with the most popular products sold on a business's website and is very useful to cold start a recommendation engine."
   ]
  },
  {
   "cell_type": "markdown",
   "metadata": {},
   "source": [
    "#### Importing libraries"
   ]
  },
  {
   "cell_type": "code",
   "execution_count": 4,
   "metadata": {},
   "outputs": [],
   "source": [
    "import numpy as np\n",
    "import pandas as pd\n",
    "import matplotlib.pyplot as plt\n",
    "import psycopg2\n",
    "# %matplotlib inline\n",
    "plt.style.use(\"ggplot\")\n",
    "\n",
    "import sklearn\n",
    "from sklearn.decomposition import TruncatedSVD"
   ]
  },
  {
   "cell_type": "markdown",
   "metadata": {},
   "source": [
    "#### Loading the dataset"
   ]
  },
  {
   "cell_type": "code",
   "execution_count": 59,
   "metadata": {},
   "outputs": [
    {
     "name": "stdout",
     "output_type": "stream",
     "text": [
      "Opened database successfully\n",
      "        id                                               name specifications  \\\n",
      "0        2  HIM TAX Silicone Push Pop Bubble Fidget Sensor...           None   \n",
      "1        3  Crafty villa Original POP POP Magic Wrinkle So...           None   \n",
      "2        5  Mrsanotiyas shock pen and chewing gum Gag Toy ...           None   \n",
      "3        6  YOTYM Pop Fidget Toys, Rainbow Heart Pop it Up...           None   \n",
      "4        7  KHG Festival Special Original POP POP Magic Wr...           None   \n",
      "...    ...                                                ...            ...   \n",
      "1130  1093  Kebilshop 6.35mm Mono Jack Male To 6.35 mm Mal...           None   \n",
      "1131  1103  Belear Nylon Ukulele Strings Set Tenor Ukelele...           None   \n",
      "1132  1112  YAMAHA C40M Matte (Natural) Classical Guitar S...           None   \n",
      "1133  1123  blueberry 38C Classic Black, 38 Inch Acoustic ...           None   \n",
      "1134  1132  PENNYCREEK Acoustic 2ndstring+capo+5picks+wall...           None   \n",
      "\n",
      "      category  ratings  \n",
      "0            1      3.9  \n",
      "1            1      3.7  \n",
      "2            1      3.2  \n",
      "3            1      3.7  \n",
      "4            1      3.2  \n",
      "...        ...      ...  \n",
      "1130        23      3.1  \n",
      "1131        23      3.1  \n",
      "1132        23      3.5  \n",
      "1133        23      3.6  \n",
      "1134        23      3.3  \n",
      "\n",
      "[1135 rows x 5 columns]\n"
     ]
    },
    {
     "data": {
      "text/html": [
       "<div>\n",
       "<style scoped>\n",
       "    .dataframe tbody tr th:only-of-type {\n",
       "        vertical-align: middle;\n",
       "    }\n",
       "\n",
       "    .dataframe tbody tr th {\n",
       "        vertical-align: top;\n",
       "    }\n",
       "\n",
       "    .dataframe thead th {\n",
       "        text-align: right;\n",
       "    }\n",
       "</style>\n",
       "<table border=\"1\" class=\"dataframe\">\n",
       "  <thead>\n",
       "    <tr style=\"text-align: right;\">\n",
       "      <th></th>\n",
       "      <th>id</th>\n",
       "      <th>name</th>\n",
       "      <th>specifications</th>\n",
       "      <th>category</th>\n",
       "      <th>ratings</th>\n",
       "    </tr>\n",
       "  </thead>\n",
       "  <tbody>\n",
       "    <tr>\n",
       "      <th>0</th>\n",
       "      <td>2</td>\n",
       "      <td>HIM TAX Silicone Push Pop Bubble Fidget Sensor...</td>\n",
       "      <td>None</td>\n",
       "      <td>1</td>\n",
       "      <td>3.9</td>\n",
       "    </tr>\n",
       "    <tr>\n",
       "      <th>1</th>\n",
       "      <td>3</td>\n",
       "      <td>Crafty villa Original POP POP Magic Wrinkle So...</td>\n",
       "      <td>None</td>\n",
       "      <td>1</td>\n",
       "      <td>3.7</td>\n",
       "    </tr>\n",
       "    <tr>\n",
       "      <th>2</th>\n",
       "      <td>5</td>\n",
       "      <td>Mrsanotiyas shock pen and chewing gum Gag Toy ...</td>\n",
       "      <td>None</td>\n",
       "      <td>1</td>\n",
       "      <td>3.2</td>\n",
       "    </tr>\n",
       "    <tr>\n",
       "      <th>3</th>\n",
       "      <td>6</td>\n",
       "      <td>YOTYM Pop Fidget Toys, Rainbow Heart Pop it Up...</td>\n",
       "      <td>None</td>\n",
       "      <td>1</td>\n",
       "      <td>3.7</td>\n",
       "    </tr>\n",
       "    <tr>\n",
       "      <th>4</th>\n",
       "      <td>7</td>\n",
       "      <td>KHG Festival Special Original POP POP Magic Wr...</td>\n",
       "      <td>None</td>\n",
       "      <td>1</td>\n",
       "      <td>3.2</td>\n",
       "    </tr>\n",
       "    <tr>\n",
       "      <th>...</th>\n",
       "      <td>...</td>\n",
       "      <td>...</td>\n",
       "      <td>...</td>\n",
       "      <td>...</td>\n",
       "      <td>...</td>\n",
       "    </tr>\n",
       "    <tr>\n",
       "      <th>1130</th>\n",
       "      <td>1093</td>\n",
       "      <td>Kebilshop 6.35mm Mono Jack Male To 6.35 mm Mal...</td>\n",
       "      <td>None</td>\n",
       "      <td>23</td>\n",
       "      <td>3.1</td>\n",
       "    </tr>\n",
       "    <tr>\n",
       "      <th>1131</th>\n",
       "      <td>1103</td>\n",
       "      <td>Belear Nylon Ukulele Strings Set Tenor Ukelele...</td>\n",
       "      <td>None</td>\n",
       "      <td>23</td>\n",
       "      <td>3.1</td>\n",
       "    </tr>\n",
       "    <tr>\n",
       "      <th>1132</th>\n",
       "      <td>1112</td>\n",
       "      <td>YAMAHA C40M Matte (Natural) Classical Guitar S...</td>\n",
       "      <td>None</td>\n",
       "      <td>23</td>\n",
       "      <td>3.5</td>\n",
       "    </tr>\n",
       "    <tr>\n",
       "      <th>1133</th>\n",
       "      <td>1123</td>\n",
       "      <td>blueberry 38C Classic Black, 38 Inch Acoustic ...</td>\n",
       "      <td>None</td>\n",
       "      <td>23</td>\n",
       "      <td>3.6</td>\n",
       "    </tr>\n",
       "    <tr>\n",
       "      <th>1134</th>\n",
       "      <td>1132</td>\n",
       "      <td>PENNYCREEK Acoustic 2ndstring+capo+5picks+wall...</td>\n",
       "      <td>None</td>\n",
       "      <td>23</td>\n",
       "      <td>3.3</td>\n",
       "    </tr>\n",
       "  </tbody>\n",
       "</table>\n",
       "<p>1135 rows × 5 columns</p>\n",
       "</div>"
      ],
      "text/plain": [
       "        id                                               name specifications  \\\n",
       "0        2  HIM TAX Silicone Push Pop Bubble Fidget Sensor...           None   \n",
       "1        3  Crafty villa Original POP POP Magic Wrinkle So...           None   \n",
       "2        5  Mrsanotiyas shock pen and chewing gum Gag Toy ...           None   \n",
       "3        6  YOTYM Pop Fidget Toys, Rainbow Heart Pop it Up...           None   \n",
       "4        7  KHG Festival Special Original POP POP Magic Wr...           None   \n",
       "...    ...                                                ...            ...   \n",
       "1130  1093  Kebilshop 6.35mm Mono Jack Male To 6.35 mm Mal...           None   \n",
       "1131  1103  Belear Nylon Ukulele Strings Set Tenor Ukelele...           None   \n",
       "1132  1112  YAMAHA C40M Matte (Natural) Classical Guitar S...           None   \n",
       "1133  1123  blueberry 38C Classic Black, 38 Inch Acoustic ...           None   \n",
       "1134  1132  PENNYCREEK Acoustic 2ndstring+capo+5picks+wall...           None   \n",
       "\n",
       "      category  ratings  \n",
       "0            1      3.9  \n",
       "1            1      3.7  \n",
       "2            1      3.2  \n",
       "3            1      3.7  \n",
       "4            1      3.2  \n",
       "...        ...      ...  \n",
       "1130        23      3.1  \n",
       "1131        23      3.1  \n",
       "1132        23      3.5  \n",
       "1133        23      3.6  \n",
       "1134        23      3.3  \n",
       "\n",
       "[1135 rows x 5 columns]"
      ]
     },
     "execution_count": 59,
     "metadata": {},
     "output_type": "execute_result"
    }
   ],
   "source": [
    "import json\n",
    "conn = psycopg2.connect(database=\"sk_final\", user = \"tanu\", password = \"1234\", host = \"127.0.0.1\", port = \"5432\")\n",
    "\n",
    "if conn:\n",
    "    print(\"Opened database successfully\")\n",
    "cur = conn.cursor()\n",
    "\n",
    "cur.execute(\"SELECT id, name, specifications, category_id, rating  from product where rating is not NULL\")\n",
    "rows = cur.fetchall()\n",
    "rowarray_list = {'id':[], 'name':[], 'specifications':[],'category': [],'ratings':[]}\n",
    "for row in rows:\n",
    "    rowarray_list[\"id\"].append(row[0])\n",
    "    rowarray_list[\"name\"].append(row[1])\n",
    "    rowarray_list[\"specifications\"].append(row[2])\n",
    "    rowarray_list[\"category\"].append(row[3])\n",
    "    rowarray_list[\"ratings\"].append(row[4])\n",
    "data = rowarray_list\n",
    "product_ratings = pd.DataFrame(data)\n",
    "print(product_ratings)\n",
    "product_ratings.head(len(data['id']))"
   ]
  },
  {
   "cell_type": "code",
   "execution_count": 60,
   "metadata": {},
   "outputs": [
    {
     "data": {
      "text/plain": [
       "(1135, 5)"
      ]
     },
     "execution_count": 60,
     "metadata": {},
     "output_type": "execute_result"
    }
   ],
   "source": [
    "product_ratings.shape"
   ]
  },
  {
   "cell_type": "code",
   "execution_count": 63,
   "metadata": {},
   "outputs": [
    {
     "data": {
      "text/html": [
       "<div>\n",
       "<style scoped>\n",
       "    .dataframe tbody tr th:only-of-type {\n",
       "        vertical-align: middle;\n",
       "    }\n",
       "\n",
       "    .dataframe tbody tr th {\n",
       "        vertical-align: top;\n",
       "    }\n",
       "\n",
       "    .dataframe thead th {\n",
       "        text-align: right;\n",
       "    }\n",
       "</style>\n",
       "<table border=\"1\" class=\"dataframe\">\n",
       "  <thead>\n",
       "    <tr style=\"text-align: right;\">\n",
       "      <th></th>\n",
       "      <th>ratings</th>\n",
       "    </tr>\n",
       "    <tr>\n",
       "      <th>category</th>\n",
       "      <th></th>\n",
       "    </tr>\n",
       "  </thead>\n",
       "  <tbody>\n",
       "    <tr>\n",
       "      <th>10</th>\n",
       "      <td>4.104545</td>\n",
       "    </tr>\n",
       "    <tr>\n",
       "      <th>11</th>\n",
       "      <td>4.065217</td>\n",
       "    </tr>\n",
       "    <tr>\n",
       "      <th>22</th>\n",
       "      <td>3.984211</td>\n",
       "    </tr>\n",
       "    <tr>\n",
       "      <th>5</th>\n",
       "      <td>3.918519</td>\n",
       "    </tr>\n",
       "    <tr>\n",
       "      <th>6</th>\n",
       "      <td>3.703125</td>\n",
       "    </tr>\n",
       "    <tr>\n",
       "      <th>15</th>\n",
       "      <td>3.595238</td>\n",
       "    </tr>\n",
       "    <tr>\n",
       "      <th>13</th>\n",
       "      <td>3.580000</td>\n",
       "    </tr>\n",
       "    <tr>\n",
       "      <th>21</th>\n",
       "      <td>3.577778</td>\n",
       "    </tr>\n",
       "    <tr>\n",
       "      <th>3</th>\n",
       "      <td>3.561538</td>\n",
       "    </tr>\n",
       "    <tr>\n",
       "      <th>4</th>\n",
       "      <td>3.549038</td>\n",
       "    </tr>\n",
       "    <tr>\n",
       "      <th>20</th>\n",
       "      <td>3.544444</td>\n",
       "    </tr>\n",
       "    <tr>\n",
       "      <th>19</th>\n",
       "      <td>3.536111</td>\n",
       "    </tr>\n",
       "    <tr>\n",
       "      <th>9</th>\n",
       "      <td>3.527586</td>\n",
       "    </tr>\n",
       "    <tr>\n",
       "      <th>23</th>\n",
       "      <td>3.523864</td>\n",
       "    </tr>\n",
       "    <tr>\n",
       "      <th>8</th>\n",
       "      <td>3.511111</td>\n",
       "    </tr>\n",
       "    <tr>\n",
       "      <th>16</th>\n",
       "      <td>3.503030</td>\n",
       "    </tr>\n",
       "    <tr>\n",
       "      <th>1</th>\n",
       "      <td>3.499010</td>\n",
       "    </tr>\n",
       "    <tr>\n",
       "      <th>2</th>\n",
       "      <td>3.489781</td>\n",
       "    </tr>\n",
       "    <tr>\n",
       "      <th>12</th>\n",
       "      <td>3.483908</td>\n",
       "    </tr>\n",
       "    <tr>\n",
       "      <th>14</th>\n",
       "      <td>3.475000</td>\n",
       "    </tr>\n",
       "    <tr>\n",
       "      <th>7</th>\n",
       "      <td>3.475000</td>\n",
       "    </tr>\n",
       "    <tr>\n",
       "      <th>18</th>\n",
       "      <td>3.471429</td>\n",
       "    </tr>\n",
       "    <tr>\n",
       "      <th>17</th>\n",
       "      <td>3.452381</td>\n",
       "    </tr>\n",
       "  </tbody>\n",
       "</table>\n",
       "</div>"
      ],
      "text/plain": [
       "           ratings\n",
       "category          \n",
       "10        4.104545\n",
       "11        4.065217\n",
       "22        3.984211\n",
       "5         3.918519\n",
       "6         3.703125\n",
       "15        3.595238\n",
       "13        3.580000\n",
       "21        3.577778\n",
       "3         3.561538\n",
       "4         3.549038\n",
       "20        3.544444\n",
       "19        3.536111\n",
       "9         3.527586\n",
       "23        3.523864\n",
       "8         3.511111\n",
       "16        3.503030\n",
       "1         3.499010\n",
       "2         3.489781\n",
       "12        3.483908\n",
       "14        3.475000\n",
       "7         3.475000\n",
       "18        3.471429\n",
       "17        3.452381"
      ]
     },
     "execution_count": 63,
     "metadata": {},
     "output_type": "execute_result"
    }
   ],
   "source": [
    "popular_products = pd.DataFrame(product_ratings.groupby('category')['ratings'].mean())\n",
    "most_popular = popular_products.sort_values('ratings', ascending=False)\n",
    "most_popular.head(100)"
   ]
  },
  {
   "cell_type": "code",
   "execution_count": 64,
   "metadata": {},
   "outputs": [
    {
     "data": {
      "text/plain": [
       "<AxesSubplot:xlabel='category'>"
      ]
     },
     "execution_count": 64,
     "metadata": {},
     "output_type": "execute_result"
    },
    {
     "data": {
      "image/png": "[encoded data removed]",
      "text/plain": [
       "<Figure size 432x288 with 1 Axes>"
      ]
     },
     "metadata": {},
     "output_type": "display_data"
    }
   ],
   "source": [
    "most_popular.head(30).plot(kind = \"bar\")"
   ]
  },
  {
   "cell_type": "markdown",
   "metadata": {},
   "source": [
    "##### Analysis:\n",
    "\n",
    "The above graph gives us the most popular products categories (arranged in descending order) sold by the business."
   ]
  },
  {
   "cell_type": "markdown",
   "metadata": {},
   "source": [
    "## Recommendation System - Part II"
   ]
  },
  {
   "cell_type": "markdown",
   "metadata": {},
   "source": [
    "For a business without any user-item purchase history, a search engine based recommendation system can be designed for users. The product recommendations can be based on textual clustering analysis given in product description."
   ]
  },
  {
   "cell_type": "code",
   "execution_count": 70,
   "metadata": {},
   "outputs": [],
   "source": [
    "# Importing libraries\n",
    "import psycopg2\n",
    "import pandas as pd\n",
    "from sklearn.feature_extraction.text import TfidfVectorizer, CountVectorizer\n",
    "from sklearn.neighbors import NearestNeighbors\n",
    "from sklearn.cluster import KMeans\n",
    "from sklearn.metrics import adjusted_rand_score"
   ]
  },
  {
   "cell_type": "markdown",
   "metadata": {},
   "source": [
    "### Item to item based recommendation system based on product description\n",
    "\n",
    "Applicable when business is setting up its E-commerce website for the first time"
   ]
  },
  {
   "cell_type": "code",
   "execution_count": 66,
   "metadata": {},
   "outputs": [
    {
     "name": "stdout",
     "output_type": "stream",
     "text": [
      "Opened database successfully\n"
     ]
    },
    {
     "data": {
      "text/plain": [
       "(1135, 3)"
      ]
     },
     "execution_count": 66,
     "metadata": {},
     "output_type": "execute_result"
    }
   ],
   "source": [
    "import json\n",
    "conn = psycopg2.connect(database=\"sk_final\", user = \"tanu\", password = \"1234\", host = \"127.0.0.1\", port = \"5432\")\n",
    "\n",
    "if conn:\n",
    "    print(\"Opened database successfully\")\n",
    "cur = conn.cursor()\n",
    "\n",
    "cur.execute(\"SELECT id, name, specifications  from product\")\n",
    "rows = cur.fetchall()\n",
    "rowarray_list = {'id':[], 'name':[], 'specifications':[]}\n",
    "for row in rows:\n",
    "    rowarray_list[\"id\"] .append(row[0])\n",
    "    rowarray_list[\"name\"] .append(row[1])\n",
    "    rowarray_list[\"specifications\"] .append(row[1])\n",
    "\n",
    "# data = json.dumps(rowarray_list)\n",
    "data = rowarray_list\n",
    "product_descriptions = pd.DataFrame(data)\n",
    "product_descriptions.shape"
   ]
  },
  {
   "cell_type": "markdown",
   "metadata": {},
   "source": [
    "#### Checking for missing values"
   ]
  },
  {
   "cell_type": "code",
   "execution_count": 67,
   "metadata": {},
   "outputs": [
    {
     "data": {
      "text/html": [
       "<div>\n",
       "<style scoped>\n",
       "    .dataframe tbody tr th:only-of-type {\n",
       "        vertical-align: middle;\n",
       "    }\n",
       "\n",
       "    .dataframe tbody tr th {\n",
       "        vertical-align: top;\n",
       "    }\n",
       "\n",
       "    .dataframe thead th {\n",
       "        text-align: right;\n",
       "    }\n",
       "</style>\n",
       "<table border=\"1\" class=\"dataframe\">\n",
       "  <thead>\n",
       "    <tr style=\"text-align: right;\">\n",
       "      <th></th>\n",
       "      <th>id</th>\n",
       "      <th>name</th>\n",
       "      <th>specifications</th>\n",
       "    </tr>\n",
       "  </thead>\n",
       "  <tbody>\n",
       "    <tr>\n",
       "      <th>0</th>\n",
       "      <td>2</td>\n",
       "      <td>HIM TAX Silicone Push Pop Bubble Fidget Sensor...</td>\n",
       "      <td>HIM TAX Silicone Push Pop Bubble Fidget Sensor...</td>\n",
       "    </tr>\n",
       "    <tr>\n",
       "      <th>1</th>\n",
       "      <td>3</td>\n",
       "      <td>Crafty villa Original POP POP Magic Wrinkle So...</td>\n",
       "      <td>Crafty villa Original POP POP Magic Wrinkle So...</td>\n",
       "    </tr>\n",
       "    <tr>\n",
       "      <th>2</th>\n",
       "      <td>5</td>\n",
       "      <td>Mrsanotiyas shock pen and chewing gum Gag Toy ...</td>\n",
       "      <td>Mrsanotiyas shock pen and chewing gum Gag Toy ...</td>\n",
       "    </tr>\n",
       "    <tr>\n",
       "      <th>3</th>\n",
       "      <td>6</td>\n",
       "      <td>YOTYM Pop Fidget Toys, Rainbow Heart Pop it Up...</td>\n",
       "      <td>YOTYM Pop Fidget Toys, Rainbow Heart Pop it Up...</td>\n",
       "    </tr>\n",
       "    <tr>\n",
       "      <th>4</th>\n",
       "      <td>7</td>\n",
       "      <td>KHG Festival Special Original POP POP Magic Wr...</td>\n",
       "      <td>KHG Festival Special Original POP POP Magic Wr...</td>\n",
       "    </tr>\n",
       "  </tbody>\n",
       "</table>\n",
       "</div>"
      ],
      "text/plain": [
       "   id                                               name  \\\n",
       "0   2  HIM TAX Silicone Push Pop Bubble Fidget Sensor...   \n",
       "1   3  Crafty villa Original POP POP Magic Wrinkle So...   \n",
       "2   5  Mrsanotiyas shock pen and chewing gum Gag Toy ...   \n",
       "3   6  YOTYM Pop Fidget Toys, Rainbow Heart Pop it Up...   \n",
       "4   7  KHG Festival Special Original POP POP Magic Wr...   \n",
       "\n",
       "                                      specifications  \n",
       "0  HIM TAX Silicone Push Pop Bubble Fidget Sensor...  \n",
       "1  Crafty villa Original POP POP Magic Wrinkle So...  \n",
       "2  Mrsanotiyas shock pen and chewing gum Gag Toy ...  \n",
       "3  YOTYM Pop Fidget Toys, Rainbow Heart Pop it Up...  \n",
       "4  KHG Festival Special Original POP POP Magic Wr...  "
      ]
     },
     "execution_count": 67,
     "metadata": {},
     "output_type": "execute_result"
    }
   ],
   "source": [
    "\n",
    "product_descriptions = product_descriptions.dropna()\n",
    "product_descriptions.shape\n",
    "product_descriptions.head()"
   ]
  },
  {
   "cell_type": "code",
   "execution_count": 68,
   "metadata": {},
   "outputs": [
    {
     "name": "stdout",
     "output_type": "stream",
     "text": [
      "      id                                               name  \\\n",
      "0      2  HIM TAX Silicone Push Pop Bubble Fidget Sensor...   \n",
      "1      3  Crafty villa Original POP POP Magic Wrinkle So...   \n",
      "2      5  Mrsanotiyas shock pen and chewing gum Gag Toy ...   \n",
      "3      6  YOTYM Pop Fidget Toys, Rainbow Heart Pop it Up...   \n",
      "4      7  KHG Festival Special Original POP POP Magic Wr...   \n",
      "..   ...                                                ...   \n",
      "495  551                 Prestige Atlas 1.8 Electric Kettle   \n",
      "496  552  Butterfly Rapid Kettle 1.5 Litre + Eco 750 Ml ...   \n",
      "497  553  Butterfly Rapid Kettle 1.5 Litre + Eco 750 Ml ...   \n",
      "498  554  Butterfly Rapid Kettle 1.5 Litre + Eco 750 Ml ...   \n",
      "499  555                      Bajaj GX1 500 W Mixer Grinder   \n",
      "\n",
      "                                        specifications  \n",
      "0    HIM TAX Silicone Push Pop Bubble Fidget Sensor...  \n",
      "1    Crafty villa Original POP POP Magic Wrinkle So...  \n",
      "2    Mrsanotiyas shock pen and chewing gum Gag Toy ...  \n",
      "3    YOTYM Pop Fidget Toys, Rainbow Heart Pop it Up...  \n",
      "4    KHG Festival Special Original POP POP Magic Wr...  \n",
      "..                                                 ...  \n",
      "495                 Prestige Atlas 1.8 Electric Kettle  \n",
      "496  Butterfly Rapid Kettle 1.5 Litre + Eco 750 Ml ...  \n",
      "497  Butterfly Rapid Kettle 1.5 Litre + Eco 750 Ml ...  \n",
      "498  Butterfly Rapid Kettle 1.5 Litre + Eco 750 Ml ...  \n",
      "499                      Bajaj GX1 500 W Mixer Grinder  \n",
      "\n",
      "[500 rows x 3 columns]\n"
     ]
    },
    {
     "data": {
      "text/plain": [
       "0    HIM TAX Silicone Push Pop Bubble Fidget Sensor...\n",
       "1    Crafty villa Original POP POP Magic Wrinkle So...\n",
       "2    Mrsanotiyas shock pen and chewing gum Gag Toy ...\n",
       "3    YOTYM Pop Fidget Toys, Rainbow Heart Pop it Up...\n",
       "4    KHG Festival Special Original POP POP Magic Wr...\n",
       "5    IndusBay 22 Inches PUBG M4 M416 BB Bullet Toy ...\n",
       "6    coolcold Pop It Fidget Toys, Push Pop Bubble F...\n",
       "7    WHEELSQUARE BB bulue gun for kids with 100 bb ...\n",
       "8    INDOVSION POPit Fidget Toys,Push Pop Bubble Fi...\n",
       "9    Galactic Bubble Machine Bubbles for Kids Cool ...\n",
       "Name: name, dtype: object"
      ]
     },
     "execution_count": 68,
     "metadata": {},
     "output_type": "execute_result"
    }
   ],
   "source": [
    "product_descriptions1 = product_descriptions.head(500)\n",
    "# product_descriptions1.iloc[:,1]\n",
    "print(product_descriptions1)\n",
    "product_descriptions1[\"name\"].head(10)"
   ]
  },
  {
   "cell_type": "markdown",
   "metadata": {},
   "source": [
    "#### Feature extraction from product descriptions\n",
    "\n",
    "Converting the text in product description into numerical data for analysis"
   ]
  },
  {
   "cell_type": "code",
   "execution_count": 71,
   "metadata": {},
   "outputs": [
    {
     "data": {
      "text/plain": [
       "<500x1324 sparse matrix of type '<class 'numpy.float64'>'\n",
       "\twith 3483 stored elements in Compressed Sparse Row format>"
      ]
     },
     "execution_count": 71,
     "metadata": {},
     "output_type": "execute_result"
    }
   ],
   "source": [
    "vectorizer = TfidfVectorizer(stop_words='english')\n",
    "X1 = vectorizer.fit_transform(product_descriptions1[\"name\"])\n",
    "X1"
   ]
  },
  {
   "cell_type": "markdown",
   "metadata": {},
   "source": [
    "#### Visualizing product clusters in subset of data"
   ]
  },
  {
   "cell_type": "code",
   "execution_count": 72,
   "metadata": {},
   "outputs": [
    {
     "data": {
      "image/png": "[encoded data removed]",
      "text/plain": [
       "<Figure size 432x288 with 1 Axes>"
      ]
     },
     "metadata": {},
     "output_type": "display_data"
    }
   ],
   "source": [
    "\n",
    "X=X1\n",
    "\n",
    "kmeans = KMeans(n_clusters = 10, init = 'k-means++')\n",
    "y_kmeans = kmeans.fit_predict(X)\n",
    "plt.plot(y_kmeans, \".\")\n",
    "plt.show()\n"
   ]
  },
  {
   "cell_type": "markdown",
   "metadata": {},
   "source": [
    "#### Top words in each cluster based on product description"
   ]
  },
  {
   "cell_type": "code",
   "execution_count": 74,
   "metadata": {},
   "outputs": [
    {
     "name": "stdout",
     "output_type": "stream",
     "text": [
      "Top terms per cluster:\n",
      "Cluster 0:\n",
      " hair\n",
      " badminton\n",
      " oil\n",
      " pop\n",
      " toy\n",
      " racquet\n",
      " gun\n",
      " set\n",
      " toys\n",
      " fidget\n",
      "Cluster 1:\n",
      " carrom\n",
      " board\n",
      " powder\n",
      " striker\n",
      " coins\n",
      " inch\n",
      " cm\n",
      " 32\n",
      " 20\n",
      " wooden\n",
      "Cluster 2:\n",
      " cricket\n",
      " bat\n",
      " ball\n",
      " tennis\n",
      " willow\n",
      " poplar\n",
      " heavy\n",
      " plastic\n",
      " ceat\n",
      " net\n",
      "Cluster 3:\n",
      " curtain\n",
      " ft\n",
      " polyester\n",
      " cm\n",
      " door\n",
      " pack\n",
      " 214\n",
      " window\n",
      " home\n",
      " single\n",
      "Cluster 4:\n",
      " face\n",
      " wash\n",
      " mamaearth\n",
      " himalaya\n",
      " skin\n",
      " muuchstac\n",
      " fairness\n",
      " oil\n",
      " vitamin\n",
      " body\n",
      "Cluster 5:\n",
      " boat\n",
      " bluetooth\n",
      " headset\n",
      " bassheads\n",
      " rockerz\n",
      " stone\n",
      " wired\n",
      " aavante\n",
      " speaker\n",
      " bar\n",
      "Cluster 6:\n",
      " large\n",
      " extra\n",
      " pvc\n",
      " wall\n",
      " sticker\n",
      " aquire\n",
      " wallpaper\n",
      " self\n",
      " adhesive\n",
      " wallberry\n",
      "Cluster 7:\n",
      " bluetooth\n",
      " speaker\n",
      " headset\n",
      " party\n",
      " jbl\n",
      " soundbar\n",
      " noise\n",
      " home\n",
      " neckband\n",
      " theatre\n",
      "Cluster 8:\n",
      " double\n",
      " bedsheet\n",
      " tc\n",
      " cotton\n",
      " floral\n",
      " printed\n",
      " microfiber\n",
      " 3d\n",
      " 144\n",
      " cover\n",
      "Cluster 9:\n",
      " wired\n",
      " headset\n",
      " buds\n",
      " realme\n",
      " mic\n",
      " sony\n",
      " optical\n",
      " mouse\n",
      " wireless\n",
      " bluetooth\n"
     ]
    },
    {
     "name": "stderr",
     "output_type": "stream",
     "text": [
      "/home/tanu/.local/lib/python3.8/site-packages/sklearn/utils/deprecation.py:87: FutureWarning: Function get_feature_names is deprecated; get_feature_names is deprecated in 1.0 and will be removed in 1.2. Please use get_feature_names_out instead.\n",
      "  warnings.warn(msg, category=FutureWarning)\n"
     ]
    }
   ],
   "source": [
    "\n",
    "\n",
    "true_k = 10\n",
    "\n",
    "model = KMeans(n_clusters=true_k, init='k-means++', max_iter=100, n_init=1)\n",
    "model.fit(X1)\n",
    "\n",
    "print(\"Top terms per cluster:\")\n",
    "order_centroids = model.cluster_centers_.argsort()[:, ::-1]\n",
    "terms = vectorizer.get_feature_names()\n",
    "for i in range(true_k):\n",
    "    print(\"Cluster %d:\" % i),\n",
    "    for ind in order_centroids[i, :10]:\n",
    "        print(' %s' % terms[ind]),\n",
    "    print\n",
    "\n"
   ]
  },
  {
   "cell_type": "markdown",
   "metadata": {},
   "source": [
    "#### Predicting clusters based on key search words"
   ]
  },
  {
   "cell_type": "markdown",
   "metadata": {},
   "source": [
    "cutting tool"
   ]
  },
  {
   "cell_type": "code",
   "execution_count": 79,
   "metadata": {},
   "outputs": [
    {
     "name": "stdout",
     "output_type": "stream",
     "text": [
      "Cluster ID:\n",
      "[0]\n",
      " hair\n",
      " badminton\n",
      " oil\n",
      " pop\n",
      " toy\n",
      " racquet\n",
      " gun\n",
      " set\n",
      " toys\n",
      " fidget\n"
     ]
    }
   ],
   "source": [
    "print(\"Cluster ID:\")\n",
    "Y = vectorizer.transform([\"badminton\"])\n",
    "prediction = model.predict(Y)\n",
    "print(prediction)\n",
    "for ind in order_centroids[prediction[0], :10]:\n",
    "        print(' %s' % terms[ind])"
   ]
  },
  {
   "cell_type": "markdown",
   "metadata": {},
   "source": [
    "spray paint"
   ]
  },
  {
   "cell_type": "code",
   "execution_count": 77,
   "metadata": {},
   "outputs": [
    {
     "name": "stdout",
     "output_type": "stream",
     "text": [
      "Cluster ID:\n",
      "[2]\n"
     ]
    }
   ],
   "source": [
    "print(\"Cluster ID:\")\n",
    "Y = vectorizer.transform([\"ball\"])\n",
    "prediction = model.predict(Y)\n",
    "print(prediction)"
   ]
  },
  {
   "cell_type": "markdown",
   "metadata": {},
   "source": [
    "steel drill"
   ]
  },
  {
   "cell_type": "code",
   "execution_count": null,
   "metadata": {},
   "outputs": [
    {
     "name": "stdout",
     "output_type": "stream",
     "text": [
      "Cluster ID:\n",
      "[8]\n"
     ]
    }
   ],
   "source": [
    "print(\"Cluster ID:\")\n",
    "Y = vectorizer.transform([\"steel drill\"])\n",
    "prediction = model.predict(Y)\n",
    "print(prediction)"
   ]
  },
  {
   "cell_type": "markdown",
   "metadata": {},
   "source": [
    "In case a word appears in multiple clusters, the algorithm chooses the cluster with the highest frequency of occurance of the word."
   ]
  },
  {
   "cell_type": "markdown",
   "metadata": {},
   "source": [
    "water"
   ]
  },
  {
   "cell_type": "code",
   "execution_count": null,
   "metadata": {
    "scrolled": true
   },
   "outputs": [
    {
     "name": "stdout",
     "output_type": "stream",
     "text": [
      "Cluster ID:\n",
      "[0]\n"
     ]
    }
   ],
   "source": [
    "print(\"Cluster ID:\")\n",
    "Y = vectorizer.transform([\"water\"])\n",
    "prediction = model.predict(Y)\n",
    "print(prediction)"
   ]
  },
  {
   "cell_type": "markdown",
   "metadata": {},
   "source": [
    "Once a cluster is identified based on the user's search words, the recommendation system can display items from the corresponding product clusters based on the product descriptions."
   ]
  },
  {
   "cell_type": "markdown",
   "metadata": {},
   "source": [
    "#### Summary: \n",
    "\n",
    "This works best if a business is setting up its e-commerce website for the first time and does not have user-item purchase/rating history to start with initally. This recommendation system will help the users get a good recommendation to start with and once the buyers have a purchased history, the recommendation engine can use the model based collaborative filtering technique."
   ]
  }
 ],
 "metadata": {
  "kernelspec": {
   "display_name": "Python 3",
   "language": "python",
   "name": "python3"
  },
  "language_info": {
   "codemirror_mode": {
    "name": "ipython",
    "version": 3
   },
   "file_extension": ".py",
   "mimetype": "text/x-python",
   "name": "python",
   "nbconvert_exporter": "python",
   "pygments_lexer": "ipython3",
   "version": "3.8.5"
  }
 },
 "nbformat": 4,
 "nbformat_minor": 2
}
